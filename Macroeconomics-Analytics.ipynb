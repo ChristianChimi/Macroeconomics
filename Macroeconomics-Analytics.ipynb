{
 "cells": [
  {
   "cell_type": "code",
   "execution_count": 52,
   "metadata": {},
   "outputs": [],
   "source": [
    "import pandas as pd\n",
    "import matplotlib.pyplot as plt\n",
    "from sklearn.ensemble import RandomForestClassifier\n",
    "df_GDP=pd.read_csv(\"GDP.csv\")\n",
    "df_INF=pd.read_csv(\"INF.csv\")\n",
    "df_UNEMP=pd.read_csv(\"UNEMP.csv\")"
   ]
  },
  {
   "cell_type": "code",
   "execution_count": 53,
   "metadata": {},
   "outputs": [],
   "source": [
    "# First of all, as i want to perform a 30 year analysis on the 3 datasets (30 years is the best period talking about consistency in these dataset), i need to drop and clean \n",
    "dfs=[df_GDP, df_INF, df_UNEMP]\n",
    "\n",
    "for df in dfs:\n",
    "    df.drop(columns=['Country Code', 'Indicator Name', 'Indicator Code', 'Unnamed: 68'], inplace=True)\n",
    "    df.set_index('Country Name', inplace=True)"
   ]
  },
  {
   "cell_type": "code",
   "execution_count": 54,
   "metadata": {},
   "outputs": [],
   "source": [
    "# Only 1993-2024 column filtering\n",
    "dfs2 = [df_GDP, df_INF, df_UNEMP]\n",
    "nn_dfs = []\n",
    "for df in dfs2:\n",
    "    nn_dfs.append(df.loc[:, df.columns.astype(int) > 1993])\n",
    "\n",
    "df_GDP, df_INF, df_UNEMP = nn_dfs\n",
    "\n",
    "# Find intersections\n",
    "common_index = df_GDP.index.intersection(df_UNEMP.index).intersection(df_INF.index)\n",
    "filtered_dfs = []\n",
    "for df in nn_dfs:\n",
    "    filtered_df = df.loc[common_index] \n",
    "    filtered_df.dropna(inplace=True) \n",
    "    filtered_dfs.append(filtered_df)\n",
    "\n",
    "df_GDP_filtered, df_INF_filtered, df_UNEMP_filtered = filtered_dfs"
   ]
  },
  {
   "cell_type": "code",
   "execution_count": null,
   "metadata": {},
   "outputs": [],
   "source": [
    "#As i want readable dataframes: convert to billions GDP and only 2 decimals. Way better!\n",
    "\n",
    "df_GDP_filtered.columns = df_GDP_filtered.columns.astype(int)  \n",
    "df_GDP_filtered.loc[:, 1994:2023] = df_GDP_filtered.loc[:, 1994:2023] / 1_000_000_000\n",
    "df_GDP_filtered = df_GDP_filtered.round(2)\n",
    "df_INF_filtered = df_INF_filtered.round(2)\n",
    "df_UNEMP_filtered = df_UNEMP_filtered.round(2)"
   ]
  },
  {
   "cell_type": "code",
   "execution_count": 56,
   "metadata": {},
   "outputs": [],
   "source": [
    "#Now that we achieved a readable dataframe, the best way to work is convert from wide to long format using melt, and the merge to have a all-in-one dataframe.\n",
    "df_inflation_long = df_INF_filtered.reset_index().melt(id_vars=['Country Name'], var_name='Year', value_name='Inflation')\n",
    "df_UNEMP_long = df_UNEMP_filtered.reset_index().melt(id_vars=['Country Name'], var_name='Year', value_name='Unemployment')\n",
    "df_GDP_long = df_GDP_filtered.reset_index().melt(id_vars=['Country Name'], var_name='Year', value_name='GDP')\n",
    "\n",
    "for df in [df_GDP_long, df_inflation_long, df_UNEMP_long]:\n",
    "    df[\"Year\"] = df[\"Year\"].astype(int)\n",
    "\n",
    "df_merged = df_GDP_long.merge(df_inflation_long, on=[\"Country Name\", \"Year\"], how=\"inner\") \\\n",
    "                  .merge(df_UNEMP_long, on=[\"Country Name\", \"Year\"], how=\"inner\")\n",
    "\n",
    "df_merged.set_index('Country Name')\n",
    "df_merged.to_csv('Macroeconomics_dataset.csv')\n",
    "#Way better! This will be good for Tableau!"
   ]
  },
  {
   "cell_type": "code",
   "execution_count": null,
   "metadata": {},
   "outputs": [],
   "source": [
    "# Create a Df for a Country. We'll choose Italy\n",
    "gdp_transposed = df_GDP_filtered.loc['Italy'].T\n",
    "inf_transposed = df_INF_filtered.loc['Italy'].T\n",
    "unemp_transposed = df_UNEMP_filtered.loc['Italy'].T\n",
    "\n",
    "gdp_transposed.index = gdp_transposed.index.astype(str) \n",
    "inf_transposed.index = inf_transposed.index.astype(str)\n",
    "unemp_transposed.index = unemp_transposed.index.astype(str)\n",
    "\n",
    "df_italy = pd.DataFrame({\n",
    "    'GDP': gdp_transposed,\n",
    "    'Inflation': inf_transposed,\n",
    "    'Unemployment': unemp_transposed\n",
    "})\n",
    "\n",
    "df_italy['Year'] = df_italy.index\n",
    "df_italy.set_index('Year', inplace=True)"
   ]
  },
  {
   "cell_type": "code",
   "execution_count": 58,
   "metadata": {},
   "outputs": [
    {
     "name": "stdout",
     "output_type": "stream",
     "text": [
      "Recession\n"
     ]
    }
   ],
   "source": [
    "#Machine learning: Random Forest Classifier to identify recession from inflation and unemployment.\n",
    "\n",
    "# Target columns: boolean, 1 if the next GDP is highter, otherwise 0.\n",
    "df_italy['target'] = (df_italy['GDP'].shift(-1) < df_italy['GDP']).astype(int)\n",
    "df_italy = df_italy.dropna()\n",
    "\n",
    "# Trainig and test set\n",
    "train_data = df_italy[df_italy.index < '2015']\n",
    "test_data = df_italy[df_italy.index >= '2015']\n",
    "\n",
    "X_train = train_data[['Unemployment', 'Inflation']]\n",
    "y_train = train_data['target']\n",
    "X_test = test_data[['Unemployment', 'Inflation']]\n",
    "y_test = test_data['target']\n",
    "\n",
    "# Random Forest model\n",
    "model = RandomForestClassifier(n_estimators=100, random_state=42)\n",
    "\n",
    "# Training\n",
    "model.fit(X_train, y_train)\n",
    "\n",
    "# Prediction\n",
    "y_pred = model.predict(X_test)\n",
    "\n",
    "new_data = pd.DataFrame({\n",
    "    'Unemployment': [df_italy['Unemployment'].loc['2008']], \n",
    "    'Inflation': [df_italy['Inflation'].loc['2008']], \n",
    "})\n",
    "\n",
    "prediction = model.predict(new_data)\n",
    "\n",
    "# Prediction\n",
    "if prediction == 1:\n",
    "    print(\"Recession\")\n",
    "else:\n",
    "    print(\"Not a recession\")"
   ]
  }
 ],
 "metadata": {
  "kernelspec": {
   "display_name": "Python 3",
   "language": "python",
   "name": "python3"
  },
  "language_info": {
   "codemirror_mode": {
    "name": "ipython",
    "version": 3
   },
   "file_extension": ".py",
   "mimetype": "text/x-python",
   "name": "python",
   "nbconvert_exporter": "python",
   "pygments_lexer": "ipython3",
   "version": "3.11.0"
  }
 },
 "nbformat": 4,
 "nbformat_minor": 2
}
