{
 "cells": [
  {
   "cell_type": "code",
   "execution_count": 129,
   "metadata": {},
   "outputs": [],
   "source": [
    "import pandas as pd\n",
    "import matplotlib.pyplot as plt\n",
    "df_GDP=pd.read_csv(\"GDP.csv\")\n",
    "df_INF=pd.read_csv(\"INF.csv\")\n",
    "df_UNEMP=pd.read_csv(\"UNEMP.csv\")"
   ]
  },
  {
   "cell_type": "code",
   "execution_count": null,
   "metadata": {},
   "outputs": [],
   "source": [
    "# First of all, as i want to perform a 30 year analysis on the 3 datasets (30 years is the best period talking about consistency in these dataset), i need to drop and clean \n",
    "dfs=[df_GDP, df_INF, df_UNEMP]\n",
    "\n",
    "for df in dfs:\n",
    "    df.drop(columns=['Country Code', 'Indicator Name', 'Indicator Code', 'Unnamed: 68'], inplace=True)\n",
    "    df.set_index('Country Name', inplace=True)"
   ]
  },
  {
   "cell_type": "code",
   "execution_count": 140,
   "metadata": {},
   "outputs": [],
   "source": [
    "dfs2 = [ df_GDP, df_INF, df_UNEMP]\n",
    "nn_dfs=[]\n",
    "for df in dfs2:\n",
    "    nn_dfs.append(df.loc[:, df.columns.astype(int) > 1993])\n",
    "\n",
    "df_GDP, df_INF, df_UNEMP = nn_dfs"
   ]
  },
  {
   "cell_type": "code",
   "execution_count": 132,
   "metadata": {},
   "outputs": [],
   "source": [
    "#Good! Now that we have the same raws and columns for every dataframe, we need to check what is still NaN and drop\n",
    "df_GDP.isnull().sum()\n",
    "df_GDP=df_GDP.dropna().copy()\n",
    "df_INF=df_INF.dropna().copy()"
   ]
  },
  {
   "cell_type": "code",
   "execution_count": 133,
   "metadata": {},
   "outputs": [],
   "source": [
    "#Now as we want to work on the same countries in every Df, we need to filter them by index\n",
    "common_index = df_GDP.index.intersection(df_UNEMP.index).intersection(df_INF.index)\n",
    "filtered_dfs = []\n",
    "\n",
    "for df in dfs:\n",
    "    filtered_dfs.append(df.loc[common_index])\n",
    "\n",
    "df_GDP_filtered, df_INF_filtered, df_UNEMP_filtered = filtered_dfs "
   ]
  },
  {
   "cell_type": "code",
   "execution_count": 134,
   "metadata": {},
   "outputs": [],
   "source": [
    "#I want readable dataframes: convert to billions GDP and only 2 decimals. Way better!\n",
    "\n",
    "df_GDP_filtered.columns = df_GDP_filtered.columns.astype(int)  # Converti i nomi delle colonne in int\n",
    "df_GDP_filtered.loc[:, 1994:2023] = df_GDP_filtered.loc[:, 1994:2023] / 1_000_000_000\n",
    "df_GDP_filtered = df_GDP_filtered.round(2)\n",
    "df_INF_filtered = df_INF_filtered.round(2)\n",
    "df_UNEMP_filtered = df_UNEMP_filtered.round(2)"
   ]
  },
  {
   "cell_type": "code",
   "execution_count": null,
   "metadata": {},
   "outputs": [],
   "source": [
    "#Now that we achieved a readable dataframe, the best way to work is convert from wide to long format using melt, and the merge to have a all-in-one dataframe.\n",
    "\n",
    "df_inflation_long = df_INF_filtered.reset_index().melt(id_vars=['Country Name'], var_name='Year', value_name='Inflation')\n",
    "df_UNEMP_long = df_UNEMP_filtered.reset_index().melt(id_vars=['Country Name'], var_name='Year', value_name='Unemployment')\n",
    "df_GDP_long = df_GDP_filtered.reset_index().melt(id_vars=['Country Name'], var_name='Year', value_name='GDP')\n",
    "\n",
    "for df in [df_GDP_long, df_inflation_long, df_UNEMP_long]:\n",
    "    df[\"Year\"] = df[\"Year\"].astype(int)\n",
    "\n",
    "df_merged = df_GDP_long.merge(df_inflation_long, on=[\"Country Name\", \"Year\"], how=\"inner\") \\\n",
    "                  .merge(df_UNEMP_long, on=[\"Country Name\", \"Year\"], how=\"inner\")\n",
    "#Way better! This will be good for Tableau!\n",
    "df_merged.set_index('Country Name')\n",
    "df_merged.to_csv('Macroeconomics_dataset.csv')"
   ]
  }
 ],
 "metadata": {
  "kernelspec": {
   "display_name": "Python 3",
   "language": "python",
   "name": "python3"
  },
  "language_info": {
   "codemirror_mode": {
    "name": "ipython",
    "version": 3
   },
   "file_extension": ".py",
   "mimetype": "text/x-python",
   "name": "python",
   "nbconvert_exporter": "python",
   "pygments_lexer": "ipython3",
   "version": "3.11.0"
  }
 },
 "nbformat": 4,
 "nbformat_minor": 2
}
